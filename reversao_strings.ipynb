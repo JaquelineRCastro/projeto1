{
 "cells": [
  {
   "cell_type": "code",
   "execution_count": null,
   "metadata": {},
   "outputs": [],
   "source": [
    "class No:\n",
    "    def __init__(self, valor):\n",
    "        self.valor = valor\n",
    "        self.proximo = None\n",
    "\n",
    "class Pilha:\n",
    "    def __init__(self):\n",
    "        self.topo = None\n",
    "\n",
    "    # Adiciona um elemento no topo da pilha\n",
    "    def push(self, valor):\n",
    "        novo_no = No(valor)\n",
    "        novo_no.proximo = self.topo\n",
    "        self.topo = novo_no\n",
    "\n",
    "    # Remove um elemento do topo da pilha\n",
    "    def pop(self):\n",
    "        if self.topo is not None:\n",
    "            removido = self.topo\n",
    "            self.topo = self.topo.proximo\n",
    "            return removido.valor\n",
    "        raise Exception(\"Pilha vazia.\")\n",
    "\n",
    "    # Acessar o topo da pilha sem realizar a remoção\n",
    "    def peek(self):\n",
    "        if self.topo is not None:\n",
    "            return self.topo.valor\n",
    "        raise Exception(\"Pilha vazia.\")"
   ]
  },
  {
   "cell_type": "code",
   "execution_count": null,
   "metadata": {},
   "outputs": [],
   "source": [
    "class Pilha(Pilha):\n",
    "    def is_empty(self):\n",
    "        return self.topo is None\n",
    "        \n",
    "        # if self.topo is None:\n",
    "        #     return True\n",
    "        # else:\n",
    "        #     return False"
   ]
  },
  {
   "cell_type": "code",
   "execution_count": null,
   "metadata": {},
   "outputs": [],
   "source": [
    "pilha = Pilha()\n",
    "print(pilha.is_empty())\n",
    "\n",
    "pilha.push(1)\n",
    "pilha.push(2)\n",
    "pilha.push(3)\n",
    "\n",
    "print(pilha.is_empty())\n",
    "\n",
    "print(pilha.peek())\n",
    "print(pilha.pop())\n",
    "print(pilha.peek())"
   ]
  },
  {
   "cell_type": "code",
   "execution_count": null,
   "metadata": {},
   "outputs": [],
   "source": [
    "def reverter_string(string):\n",
    "    pilha = Pilha()  # Cria uma instância da classe Pilha\n",
    "    # Insere cada caractere da string na pilha\n",
    "    for caractere in string:\n",
    "        pilha.push(caractere)\n",
    "    \n",
    "    # Inicializa uma string vazia para armazenar a string invertida\n",
    "    string_revertida = \"\"\n",
    "    # Remove cada caractere da pilha e adiciona à string revertida\n",
    "    while not pilha.is_empty():\n",
    "        string_revertida += pilha.pop()\n",
    "    \n",
    "    return string_revertida\n"
   ]
  },
  {
   "cell_type": "code",
   "execution_count": 2,
   "metadata": {},
   "outputs": [
    {
     "name": "stdout",
     "output_type": "stream",
     "text": [
      "String original: Hello World!\n",
      "String revertida: !dlroW olleH\n",
      "\n",
      "String original: 12345\n",
      "String revertida: 54321\n",
      "\n",
      "String original: Python é divertido\n",
      "String revertida: oditrevid é nohtyP\n",
      "\n"
     ]
    }
   ],
   "source": [
    "# Teste do programa\n",
    "def reverter_string(s):\n",
    "    return s[::-1]\n",
    "\n",
    "if __name__ == \"__main__\":\n",
    "    # Exemplos de strings para teste\n",
    "    strings_teste = [\"Hello World!\", \"12345\", \"Python é divertido\"]\n",
    "\n",
    "    for string in strings_teste:\n",
    "        print(f\"String original: {string}\")\n",
    "        string_revertida = reverter_string(string)\n",
    "        print(f\"String revertida: {string_revertida}\")\n",
    "        print()\n"
   ]
  }
 ],
 "metadata": {
  "kernelspec": {
   "display_name": "Python 3",
   "language": "python",
   "name": "python3"
  },
  "language_info": {
   "codemirror_mode": {
    "name": "ipython",
    "version": 3
   },
   "file_extension": ".py",
   "mimetype": "text/x-python",
   "name": "python",
   "nbconvert_exporter": "python",
   "pygments_lexer": "ipython3",
   "version": "3.11.8"
  }
 },
 "nbformat": 4,
 "nbformat_minor": 2
}
