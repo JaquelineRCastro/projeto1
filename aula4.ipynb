{
 "cells": [
  {
   "cell_type": "code",
   "execution_count": 12,
   "metadata": {},
   "outputs": [],
   "source": [
    "class Node:\n",
    "    def __init__(self, data):\n",
    "        self.data = data\n",
    "        self.next = None"
   ]
  },
  {
   "cell_type": "code",
   "execution_count": 13,
   "metadata": {},
   "outputs": [
    {
     "name": "stdout",
     "output_type": "stream",
     "text": [
      "Lista original:\n",
      "1 2 2 3 4 4 5 \n",
      "Lista após remoção de duplicatas:\n",
      "1 2 3 4 5 \n"
     ]
    }
   ],
   "source": [
    "class LinkedList:\n",
    "    def __init__(self):\n",
    "        self.head = None\n",
    "\n",
    "    def inserir(self, data):\n",
    "        new_node = Node(data)\n",
    "        if self.head is None:\n",
    "            self.head = new_node\n",
    "        else:\n",
    "            last = self.head\n",
    "            while last.next:\n",
    "                last = last.next\n",
    "            last.next = new_node\n",
    "\n",
    "    def exibir_lista(self):\n",
    "        current = self.head\n",
    "        while current:\n",
    "            print(current.data, end=\" \")\n",
    "            current = current.next\n",
    "        print()\n",
    "\n",
    "    def remover_duplicados(self):\n",
    "        if self.head is None:\n",
    "            return\n",
    "\n",
    "        elementos_vistos = set()\n",
    "        atual = self.head\n",
    "        anterior = None\n",
    "\n",
    "        while atual:\n",
    "            if atual.data in elementos_vistos:\n",
    "                # Remove o nó atual\n",
    "                anterior.next = atual.next\n",
    "            else:\n",
    "                elementos_vistos.add(atual.data)\n",
    "                anterior = atual\n",
    "            atual = atual.next\n",
    "\n",
    "# Exemplo de uso\n",
    "lista = LinkedList()\n",
    "lista.inserir(1)\n",
    "lista.inserir(2)\n",
    "lista.inserir(2)\n",
    "lista.inserir(3)\n",
    "lista.inserir(4)\n",
    "lista.inserir(4)\n",
    "lista.inserir(5)\n",
    "\n",
    "print(\"Lista original:\")\n",
    "lista.exibir_lista()\n",
    "\n",
    "lista.remover_duplicados()\n",
    "\n",
    "print(\"Lista após remoção de duplicatas:\")\n",
    "lista.exibir_lista()\n",
    "        \n"
   ]
  }
 ],
 "metadata": {
  "kernelspec": {
   "display_name": "Python 3",
   "language": "python",
   "name": "python3"
  },
  "language_info": {
   "codemirror_mode": {
    "name": "ipython",
    "version": 3
   },
   "file_extension": ".py",
   "mimetype": "text/x-python",
   "name": "python",
   "nbconvert_exporter": "python",
   "pygments_lexer": "ipython3",
   "version": "3.11.8"
  }
 },
 "nbformat": 4,
 "nbformat_minor": 2
}
